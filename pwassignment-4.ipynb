{
 "cells": [
  {
   "cell_type": "code",
   "execution_count": 40,
   "id": "942c2f1a",
   "metadata": {},
   "outputs": [
    {
     "name": "stdout",
     "output_type": "stream",
     "text": [
      "Enter a number to check whether positive or negative: -1\n",
      "negative number\n"
     ]
    }
   ],
   "source": [
    "# 1. Write a Python program to check if a given number is positive or negative.\n",
    "\n",
    "input_num = int(input(\"Enter a number to check whether positive or negative: \"))\n",
    "if input_num<0:\n",
    "    print(\"negative number\")\n",
    "elif input_num==0:\n",
    "    print(\"0\")\n",
    "else:\n",
    "    print(\"positive number\")"
   ]
  },
  {
   "cell_type": "code",
   "execution_count": 41,
   "id": "c263dc35",
   "metadata": {},
   "outputs": [
    {
     "name": "stdout",
     "output_type": "stream",
     "text": [
      "Enter your age: 18\n",
      "You are eligible for voting\n"
     ]
    }
   ],
   "source": [
    "# 2. Create a program that determines if a person is eligible to vote based on their age.\n",
    "\n",
    "input_age = int(input(\"Enter your age: \"))\n",
    "if input_age<18:\n",
    "    print(\"you are not eligible for voting\")\n",
    "elif input_age<0:\n",
    "    print(\"Invalid age\")\n",
    "else:\n",
    "    print(\"You are eligible for voting\")"
   ]
  },
  {
   "cell_type": "code",
   "execution_count": 42,
   "id": "8cf74f1c",
   "metadata": {},
   "outputs": [
    {
     "name": "stdout",
     "output_type": "stream",
     "text": [
      "Enter first number: 22\n",
      "Enter second number: 21\n",
      "first number is greater than second number\n"
     ]
    }
   ],
   "source": [
    "# 3. Develop a program to find the maximum of two numbers using if-else statements.\n",
    "input_first_num = int(input(\"Enter first number: \"))\n",
    "input_second_num = int(input(\"Enter second number: \"))\n",
    "if input_first_num>input_second_num:\n",
    "    print(\"first number is greater than second number\")\n",
    "elif input_first_num == input_second_num:\n",
    "    print(\"first number is equal to second number\")\n",
    "else:\n",
    "    print(\"first number is less than second number\")"
   ]
  },
  {
   "cell_type": "code",
   "execution_count": 43,
   "id": "dc591a14",
   "metadata": {},
   "outputs": [
    {
     "name": "stdout",
     "output_type": "stream",
     "text": [
      "Enter a year: 2020\n",
      "2020 is a leap year.\n"
     ]
    }
   ],
   "source": [
    "# 4. Write a Python script to classify a given year as a leap year or not.\n",
    "\n",
    "year = int(input(\"Enter a year: \"))\n",
    "\n",
    "if (year % 4 == 0 and year % 100 != 0) or (year % 400 == 0):\n",
    "    print(year, \"is a leap year.\")\n",
    "else:\n",
    "    print(year, \"is not a leap year.\")\n"
   ]
  },
  {
   "cell_type": "code",
   "execution_count": 44,
   "id": "d7599d1b",
   "metadata": {},
   "outputs": [
    {
     "name": "stdout",
     "output_type": "stream",
     "text": [
      "Enter a character: aeiou\n",
      "character is vowel\n"
     ]
    }
   ],
   "source": [
    "# 5. Create a program that checks whether a character is a vowel or a consonant.\n",
    "\n",
    "vowels = \"aeiouAEIOU\"\n",
    "char = input(\"Enter a character: \")\n",
    "if char in vowels:\n",
    "    print(\"character is vowel\")\n",
    "else:\n",
    "    print(\"character is consonants\")"
   ]
  },
  {
   "cell_type": "code",
   "execution_count": 45,
   "id": "4c083eea",
   "metadata": {},
   "outputs": [
    {
     "name": "stdout",
     "output_type": "stream",
     "text": [
      "Enter a number to check whether even or odd: 22\n",
      "Number is even\n"
     ]
    }
   ],
   "source": [
    "# 6. Implement a program to determine whether a given number is even or odd.\n",
    "\n",
    "input_num = int(input(\"Enter a number to check whether even or odd: \"))\n",
    "if input_num%2==0:\n",
    "    print(\"Number is even\")\n",
    "else:\n",
    "    print(\"Number is odd\")"
   ]
  },
  {
   "cell_type": "code",
   "execution_count": 46,
   "id": "b6d2a2f5",
   "metadata": {},
   "outputs": [
    {
     "name": "stdout",
     "output_type": "stream",
     "text": [
      "Enter a number: 250\n",
      "Absolute value: 250.0\n"
     ]
    }
   ],
   "source": [
    "# 7. Write a Python function to calculate the absolute value of a number without using the `abs()` function.\n",
    "\n",
    "def absolute_value(number):\n",
    "    if number < 0:\n",
    "        return -number\n",
    "    else:\n",
    "        return number\n",
    "\n",
    "num = float(input(\"Enter a number: \"))\n",
    "print(\"Absolute value:\", absolute_value(num))\n"
   ]
  },
  {
   "cell_type": "code",
   "execution_count": 47,
   "id": "0bba6177",
   "metadata": {},
   "outputs": [
    {
     "name": "stdout",
     "output_type": "stream",
     "text": [
      "num1 is the largest\n"
     ]
    }
   ],
   "source": [
    "# 8. Develop a program that determines the largest of three given numbers using if-else statements.\n",
    "\n",
    "def largest_three_num(num1,num2,num3):\n",
    "    if num1>num2 and num1>num3:\n",
    "        print(\"num1 is the largest\")\n",
    "    elif num2>num3 and num2>num1:\n",
    "        print(\"num2 is the largest\")\n",
    "    else:\n",
    "        print(\"num3 is the largest\")\n",
    "        \n",
    "largest_three_num(22,21,21)\n"
   ]
  },
  {
   "cell_type": "code",
   "execution_count": 48,
   "id": "2b284460",
   "metadata": {},
   "outputs": [
    {
     "name": "stdout",
     "output_type": "stream",
     "text": [
      "Enter a string to check wheter it is pallindrome or not: malayalam\n",
      "String is pallindrome\n"
     ]
    }
   ],
   "source": [
    "# 9. Create a program that checks if a given string is a palindrome.\n",
    "\n",
    "input_pal = input(\"Enter a string to check wheter it is pallindrome or not: \")\n",
    "if input_pal==input_pal[::-1]:\n",
    "    print(\"String is pallindrome\")\n",
    "else:\n",
    "    print(\"String is not pallindrome\")"
   ]
  },
  {
   "cell_type": "code",
   "execution_count": 49,
   "id": "8016b907",
   "metadata": {},
   "outputs": [
    {
     "name": "stdout",
     "output_type": "stream",
     "text": [
      "Enter the student's score: 90\n",
      "The student's grade is: A\n"
     ]
    }
   ],
   "source": [
    "# 10. Write a Python program to calculate the grade based on a student's score.\n",
    "\n",
    "def calculate_grade(score):\n",
    "    if score >= 90:\n",
    "        return 'A'\n",
    "    elif score >= 80:\n",
    "        return 'B'\n",
    "    elif score >= 70:\n",
    "        return 'C'\n",
    "    elif score >= 60:\n",
    "        return 'D'\n",
    "    else:\n",
    "        return 'F'\n",
    "\n",
    "score = float(input(\"Enter the student's score: \"))\n",
    "grade = calculate_grade(score)\n",
    "print(\"The student's grade is:\", grade)\n"
   ]
  },
  {
   "cell_type": "code",
   "execution_count": 50,
   "id": "4cf0f985",
   "metadata": {},
   "outputs": [
    {
     "name": "stdout",
     "output_type": "stream",
     "text": [
      "num3 is the largest\n"
     ]
    }
   ],
   "source": [
    "# 11. Write a program to find the largest among three numbers using nested if-else statements.\n",
    "def largest_three_num(num1, num2, num3):\n",
    "    if num1 >= num2:\n",
    "        if num1 >= num3:\n",
    "            print(\"num1 is the largest\")\n",
    "        else:\n",
    "            print(\"num3 is the largest\")\n",
    "    else:\n",
    "        if num2 >= num3:\n",
    "            print(\"num2 is the largest\")\n",
    "        else:\n",
    "            print(\"num3 is the largest\")\n",
    "\n",
    "largest_three_num(20, 21, 22)\n",
    "\n",
    "            "
   ]
  },
  {
   "cell_type": "code",
   "execution_count": 51,
   "id": "6433443a",
   "metadata": {},
   "outputs": [
    {
     "name": "stdout",
     "output_type": "stream",
     "text": [
      "Enter the length of side a: 12\n",
      "Enter the length of side b: 12\n",
      "Enter the length of side c: 12\n",
      "It forms a Equilateral triangle.\n"
     ]
    }
   ],
   "source": [
    "# 12. Implement a program to determine if a triangle is equilateral, isosceles, or scalene.\n",
    "\n",
    "def triangle_type(a, b, c):\n",
    "    if a == b == c:\n",
    "        return \"Equilateral\"\n",
    "    elif a == b or b == c or c == a:\n",
    "        return \"Isosceles\"\n",
    "    else:\n",
    "        return \"Scalene\"\n",
    "\n",
    "a = float(input(\"Enter the length of side a: \"))\n",
    "b = float(input(\"Enter the length of side b: \"))\n",
    "c = float(input(\"Enter the length of side c: \"))\n",
    "\n",
    "if a + b > c and b + c > a and c + a > b:\n",
    "    print(\"It forms a\", triangle_type(a, b, c), \"triangle.\")\n",
    "else:\n",
    "    print(\"Invalid triangle!\")\n",
    "\n"
   ]
  },
  {
   "cell_type": "code",
   "execution_count": 52,
   "id": "d5493350",
   "metadata": {},
   "outputs": [
    {
     "name": "stdout",
     "output_type": "stream",
     "text": [
      "Enter a year: 2020\n",
      "2020 is a leap year.\n",
      "2020 is not a century year.\n"
     ]
    }
   ],
   "source": [
    "# 13. Develop a program that checks if a year is a leap year and also if it is a century year.\n",
    "\n",
    "def is_leap_year(year):\n",
    "    if year % 4 == 0:\n",
    "        if year % 100 == 0:\n",
    "            if year % 400 == 0:\n",
    "                return True\n",
    "            else:\n",
    "                return False\n",
    "        else:\n",
    "            return True\n",
    "    else:\n",
    "        return False\n",
    "\n",
    "def is_century_year(year):\n",
    "    if year % 100 == 0:\n",
    "        return True\n",
    "    else:\n",
    "        return False\n",
    "\n",
    "def main():\n",
    "    year = int(input(\"Enter a year: \"))\n",
    "\n",
    "    if is_leap_year(year):\n",
    "        print(year, \"is a leap year.\")\n",
    "    else:\n",
    "        print(year, \"is not a leap year.\")\n",
    "\n",
    "    if is_century_year(year):\n",
    "        print(year, \"is a century year.\")\n",
    "    else:\n",
    "        print(year, \"is not a century year.\")\n",
    "\n",
    "if __name__ == \"__main__\":\n",
    "    main()\n"
   ]
  },
  {
   "cell_type": "code",
   "execution_count": 53,
   "id": "5b5dfe0d",
   "metadata": {},
   "outputs": [
    {
     "name": "stdout",
     "output_type": "stream",
     "text": [
      "Enter a number: -1\n",
      "The number -1.0 is Negative\n"
     ]
    }
   ],
   "source": [
    "# 14. Write a Python script to determine if a number is positive, negative, or zero.\n",
    "\n",
    "def check_number(num):\n",
    "    if num > 0:\n",
    "        return \"Positive\"\n",
    "    elif num < 0:\n",
    "        return \"Negative\"\n",
    "    else:\n",
    "        return \"Zero\"\n",
    "\n",
    "number = float(input(\"Enter a number: \"))\n",
    "result = check_number(number)\n",
    "print(\"The number\", number, \"is\", result)\n"
   ]
  },
  {
   "cell_type": "code",
   "execution_count": 54,
   "id": "47764d19",
   "metadata": {},
   "outputs": [
    {
     "name": "stdout",
     "output_type": "stream",
     "text": [
      "Enter your age: 13\n",
      "You are a teenager.\n"
     ]
    }
   ],
   "source": [
    "# 15. Create a program to check if a person is a teenager (between 13 and 19 years old).\n",
    "def is_teenager(age):\n",
    "    if age >= 13:\n",
    "        if age <= 19:\n",
    "            return True\n",
    "        else:\n",
    "            return False\n",
    "    else:\n",
    "        return False\n",
    "\n",
    "age = int(input(\"Enter your age: \"))\n",
    "\n",
    "if is_teenager(age):\n",
    "    print(\"You are a teenager.\")\n",
    "else:\n",
    "    print(\"You are not a teenager.\")\n"
   ]
  },
  {
   "cell_type": "code",
   "execution_count": 55,
   "id": "db376e45",
   "metadata": {},
   "outputs": [
    {
     "data": {
      "text/plain": [
       "'Right Angle'"
      ]
     },
     "execution_count": 55,
     "metadata": {},
     "output_type": "execute_result"
    }
   ],
   "source": [
    "# 16. Develop a program that determines the type of angle based on its measure (acute, obtuse, or right).\n",
    "\n",
    "def angle_type(angle):\n",
    "    if angle < 0 or angle > 180:\n",
    "        return \"Invalid angle measure. Angle measure must be between 0 and 180 degrees.\"\n",
    "    else:\n",
    "        if angle < 90:\n",
    "            return \"Acute Angle\"\n",
    "        elif angle == 90:\n",
    "            return \"Right Angle\"\n",
    "        else:\n",
    "            return \"Obtuse Angle\"\n",
    "angle_type(90)"
   ]
  },
  {
   "cell_type": "code",
   "execution_count": 56,
   "id": "f2cf264b",
   "metadata": {},
   "outputs": [
    {
     "name": "stdout",
     "output_type": "stream",
     "text": [
      "Enter the coefficient of x^2: 1\n",
      "Enter the coefficient of x: 10\n",
      "Enter the constant term: -24\n",
      "The roots are real and distinct: 2.00 and -12.00\n"
     ]
    }
   ],
   "source": [
    "# 17. Write a Python program to calculate the roots of a quadratic equation.\n",
    "\n",
    "def quadratic_roots(a, b, c):\n",
    "    discriminant = b**2 - 4*a*c\n",
    "\n",
    "    if discriminant > 0:\n",
    "        root1 = (-b + discriminant**0.5) / (2*a)\n",
    "        root2 = (-b - discriminant**0.5) / (2*a)\n",
    "        return \"The roots are real and distinct: {:.2f} and {:.2f}\".format(root1, root2)\n",
    "    elif discriminant == 0:\n",
    "        root = -b / (2*a)\n",
    "        return \"The root is real and repeated: {:.2f}\".format(root)\n",
    "    else:\n",
    "        real_part = -b / (2*a)\n",
    "        imaginary_part = (-discriminant)**0.5 / (2*a)\n",
    "        return \"The roots are complex: {:.2f} + {:.2f}i and {:.2f} - {:.2f}i\".format(real_part, imaginary_part, real_part, imaginary_part)\n",
    "\n",
    "a = float(input(\"Enter the coefficient of x^2: \"))\n",
    "b = float(input(\"Enter the coefficient of x: \"))\n",
    "c = float(input(\"Enter the constant term: \"))\n",
    "\n",
    "print(quadratic_roots(a, b, c))\n"
   ]
  },
  {
   "cell_type": "code",
   "execution_count": 57,
   "id": "04f3a540",
   "metadata": {},
   "outputs": [
    {
     "name": "stdout",
     "output_type": "stream",
     "text": [
      "Enter an integer to select a day of the week between 1 to 7: 2\n",
      "The day of the week corresponding to 2 is Tuesday\n"
     ]
    }
   ],
   "source": [
    "# 18. Implement a program to determine the day of the week based on a user-provided number (1 for Monday, 2 for Tuesday, etc.).\n",
    "\n",
    "week_days = [\"Monday\", \"Tuesday\", \"Wednesday\", \"Thursday\", \"Friday\", \"Saturday\", \"Sunday\"]\n",
    "input_int = int(input(\"Enter an integer to select a day of the week between 1 to 7: \"))\n",
    "\n",
    "if 1 <= input_int <= 7:\n",
    "    print(\"The day of the week corresponding to\", input_int, \"is\", week_days[input_int - 1])\n",
    "else:\n",
    "    print(\"Invalid input. Please enter a number between 1 and 7.\")"
   ]
  },
  {
   "cell_type": "code",
   "execution_count": 58,
   "id": "ea222258",
   "metadata": {},
   "outputs": [
    {
     "name": "stdout",
     "output_type": "stream",
     "text": [
      "Enter a year: 2020\n",
      "2020 is a leap year.\n"
     ]
    }
   ],
   "source": [
    "# 19. Create a program that determines if a year is a leap year and also if it is evenly divisible by 400.\n",
    "\n",
    "def is_leap_year(year):\n",
    "    if year % 400 == 0:\n",
    "        return True\n",
    "    elif year % 4 == 0 and year % 100 != 0:\n",
    "        return True\n",
    "    else:\n",
    "        return False\n",
    "\n",
    "year = int(input(\"Enter a year: \"))\n",
    "if is_leap_year(year):\n",
    "    print(year, \"is a leap year.\")\n",
    "else:\n",
    "    print(year, \"is not a leap year.\")\n"
   ]
  },
  {
   "cell_type": "code",
   "execution_count": 59,
   "id": "9f65b56b",
   "metadata": {},
   "outputs": [
    {
     "name": "stdout",
     "output_type": "stream",
     "text": [
      "Enter a number to check if it's prime: 7\n",
      "7 is a prime number.\n"
     ]
    }
   ],
   "source": [
    "# 20. Develop a program that checks if a given number is prime or not using nested if-else statements.\n",
    "\n",
    "def is_prime(number):\n",
    "    if number <= 1:\n",
    "        return False\n",
    "    elif number <= 3:\n",
    "        return True\n",
    "    elif number % 2 == 0 or number % 3 == 0:\n",
    "        return False\n",
    "    else:\n",
    "        i = 5\n",
    "        while i * i <= number:\n",
    "            if number % i == 0 or number % (i + 2) == 0:\n",
    "                return False\n",
    "            i += 6\n",
    "        return True\n",
    "\n",
    "number = int(input(\"Enter a number to check if it's prime: \"))\n",
    "\n",
    "if is_prime(number):\n",
    "    print(number, \"is a prime number.\")\n",
    "else:\n",
    "    print(number, \"is not a prime number.\")\n"
   ]
  },
  {
   "cell_type": "code",
   "execution_count": 60,
   "id": "61147804",
   "metadata": {},
   "outputs": [
    {
     "name": "stdout",
     "output_type": "stream",
     "text": [
      "Enter the student's score: 90\n",
      "The student's grade is: A\n"
     ]
    }
   ],
   "source": [
    "# 21. Write a Python program to assign grades based on different ranges of scores using elif statements.\n",
    "def calculate_grade(score):\n",
    "    if score >= 90:\n",
    "        return 'A'\n",
    "    elif score >= 80:\n",
    "        return 'B'\n",
    "    elif score >= 70:\n",
    "        return 'C'\n",
    "    elif score >= 60:\n",
    "        return 'D'\n",
    "    else:\n",
    "        return 'F'\n",
    "\n",
    "score = float(input(\"Enter the student's score: \"))\n",
    "grade = calculate_grade(score)\n",
    "print(\"The student's grade is:\", grade)"
   ]
  },
  {
   "cell_type": "code",
   "execution_count": 61,
   "id": "72e46adc",
   "metadata": {},
   "outputs": [
    {
     "data": {
      "text/plain": [
       "'Right Angle'"
      ]
     },
     "execution_count": 61,
     "metadata": {},
     "output_type": "execute_result"
    }
   ],
   "source": [
    "# 22. Implement a program to determine the type of a triangle based on its angles.\n",
    "def angle_type(angle):\n",
    "    if angle < 0 or angle > 180:\n",
    "        return \"Invalid angle measure. Angle measure must be between 0 and 180 degrees.\"\n",
    "    else:\n",
    "        if angle < 90:\n",
    "            return \"Acute Angle\"\n",
    "        elif angle == 90:\n",
    "            return \"Right Angle\"\n",
    "        else:\n",
    "            return \"Obtuse Angle\"\n",
    "angle_type(90)"
   ]
  },
  {
   "cell_type": "code",
   "execution_count": 62,
   "id": "6c33a042",
   "metadata": {},
   "outputs": [
    {
     "name": "stdout",
     "output_type": "stream",
     "text": [
      "Enter your height in meters: 16\n",
      "Enter your weight in kilograms: 80\n",
      "Your BMI is 0.3125 which means you are underweight.\n"
     ]
    }
   ],
   "source": [
    "# 23. Develop a program to categorize a given person's BMI into underweight, normal, overweight, or obese using elif statements.\n",
    "\n",
    "def bmi(height, weight):\n",
    "    bmi_index = weight / (height * height)\n",
    "    return bmi_index\n",
    "\n",
    "height = float(input(\"Enter your height in meters: \"))\n",
    "weight = float(input(\"Enter your weight in kilograms: \"))\n",
    "\n",
    "res = bmi(height, weight)\n",
    "\n",
    "if res < 18.5:\n",
    "    print(\"Your BMI is\", res, \"which means you are underweight.\")\n",
    "elif 18.5 <= res < 25:\n",
    "    print(\"Your BMI is\", res, \"which means you have a normal weight.\")\n",
    "elif 25 <= res < 30:\n",
    "    print(\"Your BMI is\", res, \"which means you are overweight.\")\n",
    "else:\n",
    "    print(\"Your BMI is\", res, \"which means you are obese.\")\n",
    "\n"
   ]
  },
  {
   "cell_type": "code",
   "execution_count": 63,
   "id": "359e960b",
   "metadata": {},
   "outputs": [
    {
     "name": "stdout",
     "output_type": "stream",
     "text": [
      "Enter number to check whether postive negative or zero: -1\n",
      "Negative number\n"
     ]
    }
   ],
   "source": [
    "# 24. Create a program that determines whether a given number is positive, negative, or zero using elif statements.\n",
    "\n",
    "input_num = int(input(\"Enter number to check whether postive negative or zero: \"))\n",
    "if input_num<0:\n",
    "    print(\"Negative number\")\n",
    "elif input_num ==0:\n",
    "    print(\"zero\")\n",
    "else:\n",
    "    print(\"positive number\")"
   ]
  },
  {
   "cell_type": "code",
   "execution_count": 64,
   "id": "421f441a",
   "metadata": {},
   "outputs": [
    {
     "name": "stdout",
     "output_type": "stream",
     "text": [
      "Enter string to check whether lower upper or special character: @#$$\n",
      "special character\n"
     ]
    }
   ],
   "source": [
    "# 25. Write a Python script to determine the type of a character (uppercase, lowercase, or special) using elif statements.\n",
    "\n",
    "input_str = input(\"Enter string to check whether lower upper or special character: \")\n",
    "if input_str.isupper():\n",
    "    print(\"String is upper case\")\n",
    "elif input_str.islower():\n",
    "    print(\"String is lower case\")\n",
    "else:\n",
    "    print(\"special character\")"
   ]
  },
  {
   "cell_type": "code",
   "execution_count": 6,
   "id": "fe0273b0",
   "metadata": {},
   "outputs": [
    {
     "name": "stdout",
     "output_type": "stream",
     "text": [
      "Enter the purchase amount: $2000\n",
      "Discounted price: $1800.00\n"
     ]
    }
   ],
   "source": [
    "# 26. Implement a program to calculate the discounted price based on different purchase amounts using elif statements.\n",
    "\n",
    "def calculate_discounted_price(amount):\n",
    "    if amount >= 1000:\n",
    "        discount = 0.1  \n",
    "    elif amount >= 500:\n",
    "        discount = 0.05 \n",
    "    else:\n",
    "        discount = 0  \n",
    "\n",
    "    discounted_price = amount - (amount * discount)\n",
    "    return discounted_price\n",
    "\n",
    "purchase_amount = float(input(\"Enter the purchase amount: $\"))\n",
    "discounted_price = calculate_discounted_price(purchase_amount)\n",
    "print(\"Discounted price: ${:.2f}\".format(discounted_price))\n"
   ]
  },
  {
   "cell_type": "code",
   "execution_count": 9,
   "id": "c54cff10",
   "metadata": {},
   "outputs": [
    {
     "name": "stdout",
     "output_type": "stream",
     "text": [
      "Enter the number of units consumed: 350\n",
      "Electricity Bill: 800.00 Rupees\n"
     ]
    }
   ],
   "source": [
    "# 27. Develop a program to calculate the electricity bill based on different consumption slabs using elif statements.\n",
    "\n",
    "def calculate_electricity_bill(units):\n",
    "    if units <= 100:\n",
    "        cost = 0.0\n",
    "    elif units <= 200:\n",
    "        cost = (units - 100) * 2.50\n",
    "    elif units <= 300:\n",
    "        cost = 100 * 2.50 + (units - 200) * 3.00\n",
    "    elif units <= 400:\n",
    "        cost = 100 * 2.50 + 100 * 3.00 + (units - 300) * 5.00\n",
    "    else:\n",
    "        cost = 100 * 2.50 + 100 * 3.00 + 100 * 5.00 + (units - 400) * 6.00\n",
    "    \n",
    "    return cost\n",
    "\n",
    "units = int(input(\"Enter the number of units consumed: \"))\n",
    "bill = calculate_electricity_bill(units)\n",
    "print(f\"Electricity Bill: {bill:.2f} Rupees\")"
   ]
  },
  {
   "cell_type": "code",
   "execution_count": 18,
   "id": "81dc15a7",
   "metadata": {},
   "outputs": [
    {
     "name": "stdout",
     "output_type": "stream",
     "text": [
      "Type of quadrilateral: Square\n"
     ]
    }
   ],
   "source": [
    "# 28. Create a program to determine the type of quadrilateral based on its angles and sides using elif statements.\n",
    "\n",
    "def classify_quadrilateral(side_lengths, angle_measurements):\n",
    "  \n",
    "    if all(side == side_lengths[0] for side in side_lengths) and all(angle == 90 for angle in angle_measurements):\n",
    "        return \"Square\"\n",
    "   \n",
    "    elif all(angle == 90 for angle in angle_measurements):\n",
    "        return \"Rectangle\"\n",
    "    \n",
    "    elif side_lengths[0] == side_lengths[2] and side_lengths[1] == side_lengths[3]:\n",
    "        return \"Parallelogram\"\n",
    " \n",
    "    elif all(side == side_lengths[0] for side in side_lengths):\n",
    "        return \"Rhombus\"\n",
    "    else:\n",
    "        return \"Quadrilateral\"\n",
    "\n",
    "\n",
    "side_lengths = [4, 4, 4, 4]  \n",
    "angle_measurements = [90, 90, 90, 90]  \n",
    "quadrilateral_type = classify_quadrilateral(side_lengths, angle_measurements)\n",
    "print(\"Type of quadrilateral:\", quadrilateral_type)\n"
   ]
  },
  {
   "cell_type": "code",
   "execution_count": 13,
   "id": "08a387b1",
   "metadata": {},
   "outputs": [
    {
     "name": "stdout",
     "output_type": "stream",
     "text": [
      "Enter month (1-12) to determine the season: 5\n",
      "Season: Spring\n"
     ]
    }
   ],
   "source": [
    "# 29. Write a Python script to determine the season based on a user-provided month using elif statements.\n",
    "\n",
    "month = [\"January\",\"February\",\"March\",\"April\",\"May\",\"June\",\"July\",\"August\",\"September\",\"October\",\"November\",\"December\"]\n",
    "season =[\"Winter\",\"Summer\",\"Rainy\",\"Monsoon\"]\n",
    "input_month = int(input(\"Enter month (1-12) to determine the season: \"))\n",
    "\n",
    "if input_month in [1, 2, 12]:\n",
    "    print(\"Season: Winter\")\n",
    "elif input_month in [3, 4, 5]:\n",
    "    print(\"Season: Spring\")\n",
    "elif input_month in [6, 7, 8]:\n",
    "    print(\"Season: Summer\")\n",
    "elif input_month in [9, 10, 11]:\n",
    "    print(\"Season: Autumn\")\n",
    "else:\n",
    "    print(\"Invalid input. Please enter a number between 1 and 12.\")\n"
   ]
  },
  {
   "cell_type": "code",
   "execution_count": 21,
   "id": "298ca779",
   "metadata": {},
   "outputs": [
    {
     "name": "stdout",
     "output_type": "stream",
     "text": [
      "Enter month (1-12): 5\n",
      "Enter year: 2023\n",
      "Type of year: Common year\n",
      "Number of days in the month: 31\n"
     ]
    }
   ],
   "source": [
    "# 30. Implement a program to determine the type of a year (leap or common) and month (30 or 31 days) using elif statements.\n",
    "\n",
    "def is_leap_year(year):\n",
    "    if (year % 4 == 0 and year % 100 != 0) or (year % 400 == 0):\n",
    "        return \"Leap year\"\n",
    "    else:\n",
    "        return \"Common year\"\n",
    "\n",
    "def days_in_month(month, year):\n",
    "    if month == 2:\n",
    "        if is_leap_year(year) == \"Leap year\":\n",
    "            return 29\n",
    "        else:\n",
    "            return 28\n",
    "    elif month in [1, 3, 5, 7, 8, 10, 12]:\n",
    "        return 31\n",
    "    else:\n",
    "        return 30\n",
    "\n",
    "month = int(input(\"Enter month (1-12): \"))\n",
    "year = int(input(\"Enter year: \"))\n",
    "\n",
    "print(\"Type of year:\", is_leap_year(year))\n",
    "print(\"Number of days in the month:\", days_in_month(month, year))\n"
   ]
  },
  {
   "cell_type": "code",
   "execution_count": 22,
   "id": "93bfc619",
   "metadata": {},
   "outputs": [
    {
     "name": "stdout",
     "output_type": "stream",
     "text": [
      "Enter a integer to check whether positive negataive or zero -2\n",
      "Negative number\n"
     ]
    }
   ],
   "source": [
    "# 1. Write a Python program that checks if a given number is positive, negative, or zero.\n",
    "\n",
    "input_num = int(input(\"Enter a integer to check whether positive negataive or zero \"))\n",
    "if input_num<0:\n",
    "    print(\"Negative number\")\n",
    "elif input_num==0:\n",
    "    print(\"Zero\")\n",
    "else:\n",
    "    print(\"positive number\")"
   ]
  },
  {
   "cell_type": "code",
   "execution_count": 23,
   "id": "3cce85bf",
   "metadata": {},
   "outputs": [
    {
     "name": "stdout",
     "output_type": "stream",
     "text": [
      "Enter age to determine eligible to vote or not: 25\n",
      "Eligible for voting\n"
     ]
    }
   ],
   "source": [
    "# 2. Create a program to determine if a person is eligible to vote based on their age.\n",
    "\n",
    "input_age = int(input(\"Enter age to determine eligible to vote or not: \"))\n",
    "if input_age>18:\n",
    "    print(\"Eligible for voting\")\n",
    "elif input_age<18:\n",
    "    print(\"Not Eligible for voting\")\n",
    "else:\n",
    "    print(\"Invalid age\")"
   ]
  },
  {
   "cell_type": "code",
   "execution_count": 24,
   "id": "916e1b8c",
   "metadata": {},
   "outputs": [
    {
     "name": "stdout",
     "output_type": "stream",
     "text": [
      "Enter first number: 22\n",
      "Enter second number: 23\n",
      "first number is less than second number\n"
     ]
    }
   ],
   "source": [
    "# 3. Write a program to find the maximum of two given numbers using conditional statements.\n",
    "\n",
    "input_first_num = int(input(\"Enter first number: \"))\n",
    "input_second_num = int(input(\"Enter second number: \"))\n",
    "if input_first_num>input_second_num:\n",
    "    print(\"first number is greater than second number\")\n",
    "elif input_first_num == input_second_num:\n",
    "    print(\"first number is equal to second number\")\n",
    "else:\n",
    "    print(\"first number is less than second number\")"
   ]
  },
  {
   "cell_type": "code",
   "execution_count": 25,
   "id": "9cd92245",
   "metadata": {},
   "outputs": [
    {
     "name": "stdout",
     "output_type": "stream",
     "text": [
      "Enter the student's score: 90\n",
      "The student's grade is: A\n"
     ]
    }
   ],
   "source": [
    "# 4. Develop a program that calculates the grade of a student based on their exam score.\n",
    "\n",
    "def calculate_grade(score):\n",
    "    if score >= 90:\n",
    "        return 'A'\n",
    "    elif score >= 80:\n",
    "        return 'B'\n",
    "    elif score >= 70:\n",
    "        return 'C'\n",
    "    elif score >= 60:\n",
    "        return 'D'\n",
    "    else:\n",
    "        return 'F'\n",
    "\n",
    "score = float(input(\"Enter the student's score: \"))\n",
    "grade = calculate_grade(score)\n",
    "print(\"The student's grade is:\", grade)\n"
   ]
  },
  {
   "cell_type": "code",
   "execution_count": 27,
   "id": "7d5de8e0",
   "metadata": {},
   "outputs": [
    {
     "name": "stdout",
     "output_type": "stream",
     "text": [
      "Enter a year to check if it's a leap year: 2020\n",
      "2020 is a leap year.\n"
     ]
    }
   ],
   "source": [
    "# 5. Create a program that checks if a year is a leap year or not.\n",
    "\n",
    "iinput_year = int(input(\"Enter a year to check if it's a leap year: \"))\n",
    "\n",
    "if (input_year % 4 == 0 and input_year % 100 != 0) or (input_year % 400 == 0):\n",
    "    print(input_year, \"is a leap year.\")\n",
    "else:\n",
    "    print(input_year, \"is not a leap year.\")\n"
   ]
  },
  {
   "cell_type": "code",
   "execution_count": 28,
   "id": "0a51e4c1",
   "metadata": {},
   "outputs": [
    {
     "name": "stdout",
     "output_type": "stream",
     "text": [
      "Enter the length of side a: 15\n",
      "Enter the length of side b: 15\n",
      "Enter the length of side c: 15\n",
      "It forms a Equilateral triangle.\n"
     ]
    }
   ],
   "source": [
    "# 6. Write a program to classify a triangle based on its sides' lengths.\n",
    "\n",
    "def triangle_type(a, b, c):\n",
    "    if a == b == c:\n",
    "        return \"Equilateral\"\n",
    "    elif a == b or b == c or c == a:\n",
    "        return \"Isosceles\"\n",
    "    else:\n",
    "        return \"Scalene\"\n",
    "\n",
    "a = float(input(\"Enter the length of side a: \"))\n",
    "b = float(input(\"Enter the length of side b: \"))\n",
    "c = float(input(\"Enter the length of side c: \"))\n",
    "\n",
    "if a + b > c and b + c > a and c + a > b:\n",
    "    print(\"It forms a\", triangle_type(a, b, c), \"triangle.\")\n",
    "else:\n",
    "    print(\"Invalid triangle!\")"
   ]
  },
  {
   "cell_type": "code",
   "execution_count": 29,
   "id": "d230a9d7",
   "metadata": {},
   "outputs": [
    {
     "name": "stdout",
     "output_type": "stream",
     "text": [
      "num1 is the largest\n"
     ]
    }
   ],
   "source": [
    "# 7. Build a program that determines the largest of three given numbers.\n",
    "def largest_three_num(num1,num2,num3):\n",
    "    if num1>num2 and num1>num3:\n",
    "        print(\"num1 is the largest\")\n",
    "    elif num2>num3 and num2>num1:\n",
    "        print(\"num2 is the largest\")\n",
    "    else:\n",
    "        print(\"num3 is the largest\")\n",
    "        \n",
    "largest_three_num(22,21,21)\n"
   ]
  },
  {
   "cell_type": "code",
   "execution_count": 30,
   "id": "de6daab8",
   "metadata": {},
   "outputs": [
    {
     "name": "stdout",
     "output_type": "stream",
     "text": [
      "Enter a character: aeiou\n",
      "character is vowel\n"
     ]
    }
   ],
   "source": [
    "# 8. Develop a program that checks whether a character is a vowel or a consonant.\n",
    "\n",
    "vowels = \"aeiouAEIOU\"\n",
    "char = input(\"Enter a character: \")\n",
    "if char in vowels:\n",
    "    print(\"character is vowel\")\n",
    "else:\n",
    "    print(\"character is consonants\")"
   ]
  },
  {
   "cell_type": "code",
   "execution_count": 35,
   "id": "fc95439f",
   "metadata": {},
   "outputs": [
    {
     "name": "stdout",
     "output_type": "stream",
     "text": [
      "Total cost of shopping cart: 2800\n",
      "Discounted cost after applying discounts: 2520.0\n"
     ]
    }
   ],
   "source": [
    "# 9. Create a program to calculate the total cost of a shopping cart based on discounts.\n",
    "\n",
    "shopping_cart = [100, 200, 300, 400, 500, 600, 700]\n",
    "total_cost = sum(shopping_cart)\n",
    "\n",
    "if total_cost > 1000:\n",
    "    discounted_cost = total_cost - (total_cost * 0.1)\n",
    "elif total_cost > 100:\n",
    "    discounted_cost = total_cost - (total_cost * 0.05)\n",
    "else:\n",
    "    discounted_cost = total_cost\n",
    "\n",
    "print(\"Total cost of shopping cart:\", total_cost)\n",
    "print(\"Discounted cost after applying discounts:\", discounted_cost)\n"
   ]
  },
  {
   "cell_type": "code",
   "execution_count": 32,
   "id": "a52bac3a",
   "metadata": {},
   "outputs": [
    {
     "name": "stdout",
     "output_type": "stream",
     "text": [
      "Enter a number to check whether even or odd: 13\n",
      "Number is odd\n"
     ]
    }
   ],
   "source": [
    "# 10. Write a program that checks if a given number is even or odd.\n",
    "\n",
    "input_num = int(input(\"Enter a number to check whether even or odd: \"))\n",
    "if input_num%2==0:\n",
    "    print(\"Number is even\")\n",
    "else:\n",
    "    print(\"Number is odd\")"
   ]
  },
  {
   "cell_type": "code",
   "execution_count": 36,
   "id": "572115fe",
   "metadata": {},
   "outputs": [
    {
     "name": "stdout",
     "output_type": "stream",
     "text": [
      "Enter the coefficient of x^2: 1\n",
      "Enter the coefficient of x: 10\n",
      "Enter the constant term: -24\n",
      "The roots are real and distinct: 2.00 and -12.00\n"
     ]
    }
   ],
   "source": [
    "# 11. Write a program that calculates the roots of a quadratic equation .\n",
    "\n",
    "def quadratic_roots(a, b, c):\n",
    "    discriminant = b**2 - 4*a*c\n",
    "\n",
    "    if discriminant > 0:\n",
    "        root1 = (-b + discriminant**0.5) / (2*a)\n",
    "        root2 = (-b - discriminant**0.5) / (2*a)\n",
    "        return \"The roots are real and distinct: {:.2f} and {:.2f}\".format(root1, root2)\n",
    "    elif discriminant == 0:\n",
    "        root = -b / (2*a)\n",
    "        return \"The root is real and repeated: {:.2f}\".format(root)\n",
    "    else:\n",
    "        real_part = -b / (2*a)\n",
    "        imaginary_part = (-discriminant)**0.5 / (2*a)\n",
    "        return \"The roots are complex: {:.2f} + {:.2f}i and {:.2f} - {:.2f}i\".format(real_part, imaginary_part, real_part, imaginary_part)\n",
    "\n",
    "a = float(input(\"Enter the coefficient of x^2: \"))\n",
    "b = float(input(\"Enter the coefficient of x: \"))\n",
    "c = float(input(\"Enter the constant term: \"))\n",
    "\n",
    "print(quadratic_roots(a, b, c))\n"
   ]
  },
  {
   "cell_type": "code",
   "execution_count": 37,
   "id": "055b642f",
   "metadata": {},
   "outputs": [
    {
     "name": "stdout",
     "output_type": "stream",
     "text": [
      "Enter an integer to select a day of the week between 1 to 7: 2\n",
      "The day of the week corresponding to 2 is Tuesday\n"
     ]
    }
   ],
   "source": [
    "# 12. Create a program that determines the day of the week based on the day number (1-7).\n",
    "week_days = [\"Monday\", \"Tuesday\", \"Wednesday\", \"Thursday\", \"Friday\", \"Saturday\", \"Sunday\"]\n",
    "input_int = int(input(\"Enter an integer to select a day of the week between 1 to 7: \"))\n",
    "\n",
    "if 1 <= input_int <= 7:\n",
    "    print(\"The day of the week corresponding to\", input_int, \"is\", week_days[input_int - 1])\n",
    "else:\n",
    "    print(\"Invalid input. Please enter a number between 1 and 7.\")"
   ]
  },
  {
   "cell_type": "code",
   "execution_count": 39,
   "id": "d92de268",
   "metadata": {},
   "outputs": [
    {
     "name": "stdout",
     "output_type": "stream",
     "text": [
      "Enter a number to find its factorial: 5\n",
      "Factorial of 5 is 120\n"
     ]
    }
   ],
   "source": [
    "# 13. Develop a program that calculates the factorial of a given number using recursion.\n",
    "\n",
    "def recursive(n):\n",
    "    if n==1:\n",
    "        return 1\n",
    "    else:\n",
    "        return n*recursive(n-1)\n",
    "    \n",
    "num=int(input(\"Enter a number to find its factorial: \"))\n",
    "if num<0:\n",
    "    print(\"Invalid input\")\n",
    "elif num==0:\n",
    "    print(\"Factorial of 0 is 1\")\n",
    "else:\n",
    "    print(\"Factorial of\",num,\"is\",recursive(num))"
   ]
  },
  {
   "cell_type": "code",
   "execution_count": 41,
   "id": "aaf71830",
   "metadata": {},
   "outputs": [
    {
     "name": "stdout",
     "output_type": "stream",
     "text": [
      "The largest number is: 22\n"
     ]
    }
   ],
   "source": [
    "# 14. Write a program to find the largest among three numbers without using the `max()` function.\n",
    "\n",
    "def largest_three_num(num1, num2, num3):\n",
    "    if num1 >= num2 and num1 >= num3:\n",
    "        return num1\n",
    "    elif num2 >= num1 and num2 >= num3:\n",
    "        return num2\n",
    "    else:\n",
    "        return num3\n",
    "        \n",
    "largest = largest_three_num(22, 21, 21)\n",
    "print(\"The largest number is:\", largest)\n",
    "\n"
   ]
  },
  {
   "cell_type": "code",
   "execution_count": 43,
   "id": "b48a8319",
   "metadata": {},
   "outputs": [
    {
     "name": "stdout",
     "output_type": "stream",
     "text": [
      "\n",
      "ATM Menu:\n",
      "1. Check Balance\n",
      "2. Deposit\n",
      "3. Withdraw\n",
      "4. Exit\n",
      "Enter your choice: 2\n",
      "Enter the amount to deposit: $1000\n",
      "$1000.0 has been deposited. Your new balance is: $2000.0\n",
      "\n",
      "ATM Menu:\n",
      "1. Check Balance\n",
      "2. Deposit\n",
      "3. Withdraw\n",
      "4. Exit\n",
      "Enter your choice: 4\n",
      "Thank you for using the ATM. Goodbye!\n"
     ]
    }
   ],
   "source": [
    "# 15. Create a program that simulates a basic ATM transaction menu.\n",
    "\n",
    "def check_balance(balance):\n",
    "    print(\"Your current balance is: ${}\".format(balance))\n",
    "\n",
    "def deposit(balance, amount):\n",
    "    balance += amount\n",
    "    print(\"${} has been deposited. Your new balance is: ${}\".format(amount, balance))\n",
    "    return balance\n",
    "\n",
    "def withdraw(balance, amount):\n",
    "    if amount > balance:\n",
    "        print(\"Insufficient funds. Your balance is: ${}\".format(balance))\n",
    "    else:\n",
    "        balance -= amount\n",
    "        print(\"${} has been withdrawn. Your new balance is: ${}\".format(amount, balance))\n",
    "    return balance\n",
    "\n",
    "def main():\n",
    "    balance = 1000  \n",
    "    while True:\n",
    "        print(\"\\nATM Menu:\")\n",
    "        print(\"1. Check Balance\")\n",
    "        print(\"2. Deposit\")\n",
    "        print(\"3. Withdraw\")\n",
    "        print(\"4. Exit\")\n",
    "\n",
    "        choice = int(input(\"Enter your choice: \"))\n",
    "\n",
    "        if choice == 1:\n",
    "            check_balance(balance)\n",
    "        elif choice == 2:\n",
    "            amount = float(input(\"Enter the amount to deposit: $\"))\n",
    "            balance = deposit(balance, amount)\n",
    "        elif choice == 3:\n",
    "            amount = float(input(\"Enter the amount to withdraw: $\"))\n",
    "            balance = withdraw(balance, amount)\n",
    "        elif choice == 4:\n",
    "            print(\"Thank you for using the ATM. Goodbye!\")\n",
    "            break\n",
    "        else:\n",
    "            print(\"Invalid choice. Please select again.\")\n",
    "\n",
    "if __name__ == \"__main__\":\n",
    "    main()\n"
   ]
  },
  {
   "cell_type": "code",
   "execution_count": 44,
   "id": "a96d5b42",
   "metadata": {},
   "outputs": [
    {
     "name": "stdout",
     "output_type": "stream",
     "text": [
      "Enter a string to check wheter it is pallindrome or not: malayalam\n",
      "String is pallindrome\n"
     ]
    }
   ],
   "source": [
    "# 16. Build a program that checks if a given string is a palindrome or not.\n",
    "\n",
    "input_pal = input(\"Enter a string to check wheter it is pallindrome or not: \")\n",
    "if input_pal==input_pal[::-1]:\n",
    "    print(\"String is pallindrome\")\n",
    "else:\n",
    "    print(\"String is not pallindrome\")"
   ]
  },
  {
   "cell_type": "code",
   "execution_count": 47,
   "id": "0b7528eb",
   "metadata": {},
   "outputs": [
    {
     "name": "stdout",
     "output_type": "stream",
     "text": [
      "program that calculates the average of a list 55.0\n"
     ]
    }
   ],
   "source": [
    "# 17. Write a program that calculates the average of a list of numbers, excluding the smallest and largest values.\n",
    "\n",
    "list_of_num = [10,20,30,40,50,60,70,80,90,100]\n",
    "list_of_num.remove(min(list_of_num))\n",
    "list_of_num.remove(max(list_of_num))\n",
    "list_of_num\n",
    "average = sum(list_of_num)/len(list_of_num)\n",
    "print(\"program that calculates the average of a list\",average)"
   ]
  },
  {
   "cell_type": "code",
   "execution_count": 48,
   "id": "609b3244",
   "metadata": {},
   "outputs": [
    {
     "name": "stdout",
     "output_type": "stream",
     "text": [
      "Enter celsius to convert into fahrenheit: 41\n",
      "Celsius to fahrenheit Converted is:  105.8\n"
     ]
    }
   ],
   "source": [
    "# 18. Develop a program that converts a given temperature from Celsius to Fahrenheit.\n",
    "\n",
    "def Celsius_fahrenheit(celsius):\n",
    "    f = ((9/5)*celsius)+32\n",
    "    return f\n",
    "\n",
    "input_celsius = float(input(\"Enter celsius to convert into fahrenheit: \"))\n",
    "res = Celsius_fahrenheit(input_celsius)\n",
    "print(\"Celsius to fahrenheit Converted is: \",res)"
   ]
  },
  {
   "cell_type": "code",
   "execution_count": 53,
   "id": "a1f87bdd",
   "metadata": {},
   "outputs": [
    {
     "name": "stdout",
     "output_type": "stream",
     "text": [
      "\n",
      "Calculator Menu:\n",
      "1. Addition\n",
      "2. Subtraction\n",
      "3. Multiplication\n",
      "4. Division\n",
      "5. Exit\n",
      "Enter your choice (1-5): 3\n",
      "Enter the first number: 7\n",
      "Enter the second number: 7\n",
      "Result:  49.0\n",
      "\n",
      "Calculator Menu:\n",
      "1. Addition\n",
      "2. Subtraction\n",
      "3. Multiplication\n",
      "4. Division\n",
      "5. Exit\n",
      "Enter your choice (1-5): 5\n",
      "Exiting the calculator. Goodbye!\n"
     ]
    }
   ],
   "source": [
    "# 19. Create a program that simulates a basic calculator for addition, subtraction, multiplication, and division.\n",
    "def add(a, b):\n",
    "    return a + b\n",
    "\n",
    "def sub(a, b):\n",
    "    return a - b\n",
    "\n",
    "def mul(a, b):\n",
    "    return a * b\n",
    "\n",
    "def div(a, b):\n",
    "    if b == 0:\n",
    "        return \"Error: Division by zero!\"\n",
    "    else:\n",
    "        return a / b\n",
    "\n",
    "def main():\n",
    "    while True:\n",
    "        print(\"\\nCalculator Menu:\")\n",
    "        print(\"1. Addition\")\n",
    "        print(\"2. Subtraction\")\n",
    "        print(\"3. Multiplication\")\n",
    "        print(\"4. Division\")\n",
    "        print(\"5. Exit\")\n",
    "\n",
    "        choice = int(input(\"Enter your choice (1-5): \"))\n",
    "\n",
    "        if choice == 1:\n",
    "            a = float(input(\"Enter the first number: \"))\n",
    "            b = float(input(\"Enter the second number: \"))\n",
    "            result = add(a, b)\n",
    "            print(\"Result: \", result)\n",
    "        elif choice == 2:\n",
    "            a = float(input(\"Enter the first number: \"))\n",
    "            b = float(input(\"Enter the second number: \"))\n",
    "            result = sub(a, b)\n",
    "            print(\"Result: \", result)\n",
    "        elif choice == 3:\n",
    "            a = float(input(\"Enter the first number: \"))\n",
    "            b = float(input(\"Enter the second number: \"))\n",
    "            result = mul(a, b)\n",
    "            print(\"Result: \", result)\n",
    "        elif choice == 4:\n",
    "            a = float(input(\"Enter the first number: \"))\n",
    "            b = float(input(\"Enter the second number: \"))\n",
    "            result = div(a, b)\n",
    "            print(\"Result: \", result)\n",
    "        elif choice == 5:\n",
    "            print(\"Exiting the calculator. Goodbye!\")\n",
    "            break\n",
    "        else:\n",
    "            print(\"Invalid choice! Please enter a number between 1 and 5.\")\n",
    "\n",
    "if __name__ == \"__main__\":\n",
    "    main()\n"
   ]
  },
  {
   "cell_type": "code",
   "execution_count": 54,
   "id": "87ab7dbb",
   "metadata": {},
   "outputs": [
    {
     "name": "stdout",
     "output_type": "stream",
     "text": [
      "Roots of the cubic equation: (3.0, 1.0, 1.9999999999999998)\n"
     ]
    }
   ],
   "source": [
    "# 20. Write a program that determines the roots of a cubic equation using the Cardano formula.\n",
    "\n",
    "import math\n",
    "\n",
    "def cubic_roots(a, b, c, d):\n",
    "    # Calculate discriminant and its cube root\n",
    "    p = (3 * a * c - b ** 2) / (3 * a ** 2)\n",
    "    q = (2 * b ** 3 - 9 * a * b * c + 27 * a ** 2 * d) / (27 * a ** 3)\n",
    "    discriminant = q ** 2 / 4 + p ** 3 / 27\n",
    "    \n",
    "    if discriminant > 0:\n",
    "        # Three real roots\n",
    "        u = (-q / 2 + discriminant ** 0.5) ** (1 / 3)\n",
    "        v = (-q / 2 - discriminant ** 0.5) ** (1 / 3)\n",
    "        \n",
    "        real_root1 = u + v - b / (3 * a)\n",
    "        real_root2 = -(u + v) / 2 - b / (3 * a) + (u - v) * math.sqrt(3) / 2j\n",
    "        real_root3 = -(u + v) / 2 - b / (3 * a) - (u - v) * math.sqrt(3) / 2j\n",
    "        \n",
    "        return real_root1, real_root2, real_root3\n",
    "    \n",
    "    elif discriminant == 0:\n",
    "        # One real root\n",
    "        if q == 0:\n",
    "            real_root = -b / (3 * a)\n",
    "        else:\n",
    "            u = (-q / 2) ** (1 / 3)\n",
    "            real_root = 2 * u - b / (3 * a)\n",
    "            \n",
    "        return real_root,\n",
    "    \n",
    "    else:\n",
    "        # Three distinct real roots\n",
    "        phi = math.acos(-q / 2 * math.sqrt(-27 / p ** 3))\n",
    "        root1 = 2 * math.sqrt(-p / 3) * math.cos(phi / 3) - b / (3 * a)\n",
    "        root2 = 2 * math.sqrt(-p / 3) * math.cos((phi + 2 * math.pi) / 3) - b / (3 * a)\n",
    "        root3 = 2 * math.sqrt(-p / 3) * math.cos((phi + 4 * math.pi) / 3) - b / (3 * a)\n",
    "        \n",
    "        return root1, root2, root3\n",
    "\n",
    "# Example usage\n",
    "a = 1\n",
    "b = -6\n",
    "c = 11\n",
    "d = -6\n",
    "\n",
    "roots = cubic_roots(a, b, c, d)\n",
    "print(\"Roots of the cubic equation:\", roots)\n",
    "\n",
    "\n"
   ]
  },
  {
   "cell_type": "code",
   "execution_count": 57,
   "id": "7f583e5f",
   "metadata": {},
   "outputs": [
    {
     "name": "stdout",
     "output_type": "stream",
     "text": [
      "Enter your income: 50000\n",
      "Income tax: 0\n"
     ]
    }
   ],
   "source": [
    "# 21. Create a program that calculates the income tax based on the user's income and tax brackets.\n",
    "\n",
    "def income_tax(income):\n",
    "    if 0 <= income < 250000:\n",
    "        tax = 0\n",
    "    elif 250000 <= income < 500000:\n",
    "        tax = (income - 250000) * 0.05\n",
    "    elif 500000 <= income < 1000000:\n",
    "        tax = 12500 + (income - 500000) * 0.1\n",
    "    elif 1000000 <= income < 2000000:\n",
    "        tax = 75000 + (income - 1000000) * 0.15\n",
    "    else:\n",
    "        tax = 225000 + (income - 2000000) * 0.2\n",
    "    \n",
    "    return tax\n",
    "\n",
    "# Example usage\n",
    "income = float(input(\"Enter your income: \"))\n",
    "tax = income_tax(income)\n",
    "print(\"Income tax:\", tax)\n",
    "\n"
   ]
  },
  {
   "cell_type": "code",
   "execution_count": 58,
   "id": "79cc1a62",
   "metadata": {},
   "outputs": [
    {
     "name": "stdout",
     "output_type": "stream",
     "text": [
      "Let's play Rock-Paper-Scissors!\n",
      "Enter your choice (rock, paper, or scissors):\n",
      "rock\n",
      "You chose: rock\n",
      "Computer chose: scissors\n",
      "You win!\n"
     ]
    }
   ],
   "source": [
    "# 22. Write a program that simulates a rock-paper-scissors game against the computer.\n",
    "\n",
    "import random\n",
    "\n",
    "def play_game():\n",
    "    print(\"Let's play Rock-Paper-Scissors!\")\n",
    "    print(\"Enter your choice (rock, paper, or scissors):\")\n",
    "    user_choice = input().lower()\n",
    "    \n",
    "    while user_choice not in ['rock', 'paper', 'scissors']:\n",
    "        print(\"Invalid choice! Please enter 'rock', 'paper', or 'scissors'.\")\n",
    "        user_choice = input().lower()\n",
    "    \n",
    "    computer_choice = random.choice(['rock', 'paper', 'scissors'])\n",
    "    \n",
    "    print(\"You chose:\", user_choice)\n",
    "    print(\"Computer chose:\", computer_choice)\n",
    "    \n",
    "    if user_choice == computer_choice:\n",
    "        print(\"It's a tie!\")\n",
    "    elif (user_choice == 'rock' and computer_choice == 'scissors') or \\\n",
    "         (user_choice == 'paper' and computer_choice == 'rock') or \\\n",
    "         (user_choice == 'scissors' and computer_choice == 'paper'):\n",
    "        print(\"You win!\")\n",
    "    else:\n",
    "        print(\"Computer wins!\")\n",
    "\n",
    "\n",
    "if __name__ == \"__main__\":\n",
    "    play_game()\n",
    "\n",
    "    "
   ]
  },
  {
   "cell_type": "code",
   "execution_count": 59,
   "id": "c9a92cb6",
   "metadata": {},
   "outputs": [
    {
     "name": "stdout",
     "output_type": "stream",
     "text": [
      "Enter the length of the password: 10\n",
      "Enter the complexity level (low, medium, or high): high\n",
      "Generated password: ci`BxD@xoU\n"
     ]
    }
   ],
   "source": [
    "# 23. Develop a program that generates a random password based on user preferences (length, complexity).\n",
    "\n",
    "import random\n",
    "import string\n",
    "\n",
    "def generate_password(length, complexity):\n",
    "    if complexity == \"low\":\n",
    "        characters = string.ascii_letters + string.digits\n",
    "    elif complexity == \"medium\":\n",
    "        characters = string.ascii_letters + string.digits + string.punctuation\n",
    "    elif complexity == \"high\":\n",
    "        characters = string.ascii_letters + string.digits + string.punctuation + string.ascii_lowercase + string.ascii_uppercase\n",
    "    else:\n",
    "        print(\"Invalid complexity level. Please choose from 'low', 'medium', or 'high'.\")\n",
    "        return None\n",
    "    \n",
    "    password = ''.join(random.choice(characters) for _ in range(length))\n",
    "    return password\n",
    "\n",
    "\n",
    "if __name__ == \"__main__\":\n",
    "    length = int(input(\"Enter the length of the password: \"))\n",
    "    complexity = input(\"Enter the complexity level (low, medium, or high): \").lower()\n",
    "    \n",
    "    password = generate_password(length, complexity)\n",
    "    if password:\n",
    "        print(\"Generated password:\", password)\n"
   ]
  },
  {
   "cell_type": "code",
   "execution_count": 60,
   "id": "fc4fe5bf",
   "metadata": {},
   "outputs": [
    {
     "name": "stdout",
     "output_type": "stream",
     "text": [
      "You wake up in a dark room.\n",
      "You see two doors in front of you.\n",
      "Do you want to go through door 1 or door 2?\n",
      "Enter 1 or 2: 2\n",
      "You enter door 2 and fall into a pit.\n",
      "Game over.\n"
     ]
    }
   ],
   "source": [
    "# 24. Create a program that implements a simple text-based adventure game with branching scenarios.\n",
    "\n",
    "def start_game():\n",
    "    print(\"You wake up in a dark room.\")\n",
    "    print(\"You see two doors in front of you.\")\n",
    "    print(\"Do you want to go through door 1 or door 2?\")\n",
    "\n",
    "    choice = input(\"Enter 1 or 2: \")\n",
    "\n",
    "    if choice == \"1\":\n",
    "        print(\"You enter door 1 and find a treasure chest!\")\n",
    "        print(\"Congratulations! You win!\")\n",
    "    elif choice == \"2\":\n",
    "        print(\"You enter door 2 and fall into a pit.\")\n",
    "        print(\"Game over.\")\n",
    "    else:\n",
    "        print(\"Invalid choice. Try again.\")\n",
    "        start_game()\n",
    "\n",
    "\n",
    "if __name__ == \"__main__\":\n",
    "    start_game()\n"
   ]
  },
  {
   "cell_type": "code",
   "execution_count": 61,
   "id": "a118117f",
   "metadata": {},
   "outputs": [
    {
     "name": "stdout",
     "output_type": "stream",
     "text": [
      "Enter the coefficient of x (a): 4\n",
      "Enter the constant term (b): 2\n",
      "Solution: x = -0.5\n"
     ]
    }
   ],
   "source": [
    "def solve_linear_equation(a, b):\n",
    "    if a == 0:\n",
    "        if b == 0:\n",
    "            print(\"Infinite solutions: Any value of x satisfies the equation.\")\n",
    "        else:\n",
    "            print(\"No solution: The equation is inconsistent.\")\n",
    "    else:\n",
    "        x = -b / a\n",
    "        print(\"Solution: x =\", x)\n",
    "\n",
    "\n",
    "if __name__ == \"__main__\":\n",
    "    a = float(input(\"Enter the coefficient of x (a): \"))\n",
    "    b = float(input(\"Enter the constant term (b): \"))\n",
    "\n",
    "    solve_linear_equation(a, b)\n"
   ]
  },
  {
   "cell_type": "code",
   "execution_count": 1,
   "id": "47318f29",
   "metadata": {},
   "outputs": [
    {
     "name": "stdout",
     "output_type": "stream",
     "text": [
      "Welcome to the Quiz Game\n",
      "What is the national bird of India?\n",
      "A) Pigeon\n",
      "B) Peacock\n",
      "C) Owl\n",
      "D) Vulture\n",
      "Your answer: b\n",
      "Correct!\n",
      "What is the national fruit of India?\n",
      "A) Apple\n",
      "B) Banana\n",
      "C) Mango\n",
      "D) Pineapple\n",
      "Your answer: b\n",
      "Incorrect!\n",
      "What is the national flower of India?\n",
      "A) Lotus\n",
      "B) Rose\n",
      "C) Hibiscus\n",
      "D) Sunflower\n",
      "Your answer: a\n",
      "Correct!\n",
      "Quiz completed! Your total score is: 2\n"
     ]
    }
   ],
   "source": [
    "# 26. Write a program that simulates a basic quiz game with multiple-choice questions and scoring.\n",
    "\n",
    "def question1():\n",
    "    print(\"What is the national bird of India?\")\n",
    "    print(\"A) Pigeon\")\n",
    "    print(\"B) Peacock\")\n",
    "    print(\"C) Owl\")\n",
    "    print(\"D) Vulture\")\n",
    "    answer = input(\"Your answer: \").upper()\n",
    "    if answer == \"B\":\n",
    "        print(\"Correct!\")\n",
    "        return 1\n",
    "    else:\n",
    "        print(\"Incorrect!\")\n",
    "        return 0\n",
    "\n",
    "def question2():\n",
    "    print(\"What is the national fruit of India?\")\n",
    "    print(\"A) Apple\")\n",
    "    print(\"B) Banana\")\n",
    "    print(\"C) Mango\")\n",
    "    print(\"D) Pineapple\")\n",
    "    answer = input(\"Your answer: \").upper()\n",
    "    if answer == \"C\":\n",
    "        print(\"Correct!\")\n",
    "        return 1\n",
    "    else:\n",
    "        print(\"Incorrect!\")\n",
    "        return 0\n",
    "\n",
    "def question3():\n",
    "    print(\"What is the national flower of India?\")\n",
    "    print(\"A) Lotus\")\n",
    "    print(\"B) Rose\")\n",
    "    print(\"C) Hibiscus\")\n",
    "    print(\"D) Sunflower\")\n",
    "    answer = input(\"Your answer: \").upper()\n",
    "    if answer == \"A\":\n",
    "        print(\"Correct!\")\n",
    "        return 1\n",
    "    else:\n",
    "        print(\"Incorrect!\")\n",
    "        return 0\n",
    "\n",
    "def main():\n",
    "    print(\"Welcome to the Quiz Game\")\n",
    "    score = 0\n",
    "    score += question1()\n",
    "    score += question2()\n",
    "    score += question3()\n",
    "    print(\"Quiz completed! Your total score is:\", score)\n",
    "\n",
    "if __name__ == \"__main__\":\n",
    "    main()\n",
    "\n",
    "        "
   ]
  },
  {
   "cell_type": "code",
   "execution_count": 5,
   "id": "0fc4258b",
   "metadata": {},
   "outputs": [
    {
     "name": "stdout",
     "output_type": "stream",
     "text": [
      "input enter a year to check whether it is prime or not2023\n",
      "2023 is not prime year\n"
     ]
    }
   ],
   "source": [
    "# 27. Develop a program that determines whether a given year is a prime number or not.\n",
    "\n",
    "def is_prime(num):\n",
    "    if num<=1:\n",
    "        return False\n",
    "    elif num<=3:\n",
    "        return True\n",
    "    elif num%2==0 or num%3==0:\n",
    "        return False\n",
    "    else:\n",
    "        i=5\n",
    "        while i*i <= num:\n",
    "            if num%i==0 or num%(i+2)==0:\n",
    "                return False\n",
    "            i +=6\n",
    "        return True\n",
    "    \n",
    "num = int(input(\"input enter a year to check whether it is prime or not\"))\n",
    "\n",
    "if is_prime(num):\n",
    "    print(num,\"is prime year\")\n",
    "else:\n",
    "    print(num,\"is not prime year\")"
   ]
  },
  {
   "cell_type": "code",
   "execution_count": 6,
   "id": "e26af74c",
   "metadata": {},
   "outputs": [
    {
     "name": "stdout",
     "output_type": "stream",
     "text": [
      "Enter a year to check whether it is prime or not: 2021\n",
      "2021 is not a prime year.\n"
     ]
    }
   ],
   "source": [
    "def is_prime_year(year):\n",
    "    if year <= 1:\n",
    "        return False\n",
    "    elif year <= 3:\n",
    "        return True\n",
    "    elif year % 2 == 0 or year % 3 == 0:\n",
    "        return False\n",
    "    else:\n",
    "        i = 5\n",
    "        while i * i <= year:\n",
    "            if year % i == 0 or year % (i + 2) == 0:\n",
    "                return False\n",
    "            i += 6\n",
    "        return True\n",
    "\n",
    "year = int(input(\"Enter a year to check whether it is prime or not: \"))\n",
    "\n",
    "if is_prime_year(year):\n",
    "    print(year, \"is a prime year.\")\n",
    "else:\n",
    "    print(year, \"is not a prime year.\")\n"
   ]
  },
  {
   "cell_type": "code",
   "execution_count": 8,
   "id": "16ab1042",
   "metadata": {},
   "outputs": [
    {
     "name": "stdout",
     "output_type": "stream",
     "text": [
      "Enter three numbers separated by spaces: 22 20 21\n",
      "Numbers in ascending order: [20, 21, 22]\n"
     ]
    }
   ],
   "source": [
    "# 28. Create a program that sorts three numbers in ascending order using conditional statements.\n",
    "\n",
    "input_str = input(\"Enter three numbers separated by spaces: \")\n",
    "input_list = [int(x) for x in input_str.split()]\n",
    "\n",
    "if input_list[0] > input_list[1]:\n",
    "    input_list[0], input_list[1] = input_list[1], input_list[0]\n",
    "\n",
    "if input_list[1] > input_list[2]:\n",
    "    input_list[1], input_list[2] = input_list[2], input_list[1]\n",
    "\n",
    "if input_list[0] > input_list[1]:\n",
    "    input_list[0], input_list[1] = input_list[1], input_list[0]\n",
    "\n",
    "result = input_list\n",
    "print(\"Numbers in ascending order:\", result)\n"
   ]
  },
  {
   "cell_type": "code",
   "execution_count": 10,
   "id": "50ee4cf5",
   "metadata": {},
   "outputs": [
    {
     "name": "stdout",
     "output_type": "stream",
     "text": [
      "Root of the quartic equation: 1.0\n"
     ]
    }
   ],
   "source": [
    "# 29. Build a program that determines the roots of a quartic equation using numerical methods.\n",
    "\n",
    "def quartic_function(x, a, b, c, d, e):\n",
    "    \"\"\"\n",
    "    Evaluate the quartic function f(x) = ax^4 + bx^3 + cx^2 + dx + e\n",
    "    \"\"\"\n",
    "    return a * x ** 4 + b * x ** 3 + c * x ** 2 + d * x + e\n",
    "\n",
    "def derivative_quartic_function(x, a, b, c, d):\n",
    "    \"\"\"\n",
    "    Evaluate the derivative of the quartic function\n",
    "    \"\"\"\n",
    "    return 4 * a * x ** 3 + 3 * b * x ** 2 + 2 * c * x + d\n",
    "\n",
    "def newton_raphson_quartic(a, b, c, d, e, initial_guess, tolerance=1e-6, max_iterations=1000):\n",
    "    \"\"\"\n",
    "    Find the root of a quartic equation using Newton-Raphson method\n",
    "    \"\"\"\n",
    "    x = initial_guess\n",
    "    for _ in range(max_iterations):\n",
    "        if abs(quartic_function(x, a, b, c, d, e)) < tolerance:\n",
    "            return x\n",
    "        x -= quartic_function(x, a, b, c, d, e) / derivative_quartic_function(x, a, b, c, d)\n",
    "    return None\n",
    "\n",
    "\n",
    "a = 1\n",
    "b = -3\n",
    "c = 2\n",
    "d = -1\n",
    "e = 1\n",
    "\n",
    "initial_guess = 1.0\n",
    "\n",
    "root = newton_raphson_quartic(a, b, c, d, e, initial_guess)\n",
    "if root is not None:\n",
    "    print(\"Root of the quartic equation:\", root)\n",
    "else:\n",
    "    print(\"No root found within the given tolerance.\")\n"
   ]
  },
  {
   "cell_type": "code",
   "execution_count": 11,
   "id": "036f2b1d",
   "metadata": {},
   "outputs": [
    {
     "name": "stdout",
     "output_type": "stream",
     "text": [
      "Welcome to the BMI Calculator\n",
      "Enter your weight in kilograms: 80\n",
      "Enter your height in meters: 5.11\n",
      "Your BMI is: 3.0637137572236623\n",
      "Health recommendation: Underweight: You may need to gain some weight. Consult with a healthcare provider or a nutritionist for guidance.\n"
     ]
    }
   ],
   "source": [
    "# 30. Write a program that calculates the BMI (Body Mass Index) and provides health recommendations based\n",
    "# on the user's input.\n",
    "def calculate_bmi(weight, height):\n",
    "    \"\"\"\n",
    "    Calculate the Body Mass Index (BMI) using weight in kilograms and height in meters.\n",
    "    Formula: BMI = weight / (height^2)\n",
    "    \"\"\"\n",
    "    return weight / (height ** 2)\n",
    "\n",
    "def health_recommendations(bmi):\n",
    "    \"\"\"\n",
    "    Provide health recommendations based on BMI.\n",
    "    \"\"\"\n",
    "    if bmi < 18.5:\n",
    "        return \"Underweight: You may need to gain some weight. Consult with a healthcare provider or a nutritionist for guidance.\"\n",
    "    elif 18.5 <= bmi < 25:\n",
    "        return \"Normal weight: Your weight is within the healthy range. Keep up the good work!\"\n",
    "    elif 25 <= bmi < 30:\n",
    "        return \"Overweight: You may need to lose some weight. Consider adopting a balanced diet and regular exercise routine.\"\n",
    "    else:\n",
    "        return \"Obese: It's important to manage your weight for your health. Consult with a healthcare provider for personalized advice and support.\"\n",
    "\n",
    "def main():\n",
    "    print(\"Welcome to the BMI Calculator\")\n",
    "    weight = float(input(\"Enter your weight in kilograms: \"))\n",
    "    height = float(input(\"Enter your height in meters: \"))\n",
    "    \n",
    "    bmi = calculate_bmi(weight, height)\n",
    "    print(\"Your BMI is:\", bmi)\n",
    "    \n",
    "    recommendation = health_recommendations(bmi)\n",
    "    print(\"Health recommendation:\", recommendation)\n",
    "\n",
    "if __name__ == \"__main__\":\n",
    "    main()\n"
   ]
  },
  {
   "cell_type": "code",
   "execution_count": 12,
   "id": "0e96a39e",
   "metadata": {},
   "outputs": [
    {
     "name": "stdout",
     "output_type": "stream",
     "text": [
      "Enter the length of the password: 5\n",
      "Enter the complexity level (low, medium, or high): high\n",
      "Generated password: sVrvD\n"
     ]
    }
   ],
   "source": [
    "# 31. Create a program that validates a password based on complexity rules (length, characters, etc.).\n",
    "\n",
    "import random\n",
    "import string\n",
    "\n",
    "def generate_password(length, complexity):\n",
    "    if complexity == \"low\":\n",
    "        characters = string.ascii_letters + string.digits\n",
    "    elif complexity == \"medium\":\n",
    "        characters = string.ascii_letters + string.digits + string.punctuation\n",
    "    elif complexity == \"high\":\n",
    "        characters = string.ascii_letters + string.digits + string.punctuation + string.ascii_lowercase + string.ascii_uppercase\n",
    "    else:\n",
    "        print(\"Invalid complexity level. Please choose from 'low', 'medium', or 'high'.\")\n",
    "        return None\n",
    "    \n",
    "    password = ''.join(random.choice(characters) for _ in range(length))\n",
    "    return password\n",
    "\n",
    "\n",
    "if __name__ == \"__main__\":\n",
    "    length = int(input(\"Enter the length of the password: \"))\n",
    "    complexity = input(\"Enter the complexity level (low, medium, or high): \").lower()\n",
    "    \n",
    "    password = generate_password(length, complexity)\n",
    "    if password:\n",
    "        print(\"Generated password:\", password)\n",
    "    \n"
   ]
  },
  {
   "cell_type": "code",
   "execution_count": 14,
   "id": "68374dd7",
   "metadata": {},
   "outputs": [
    {
     "name": "stdout",
     "output_type": "stream",
     "text": [
      "Enter the length of the password: 6\n",
      "Enter the complexity level (low, medium, or high): high\n",
      "Generated password: -R3zpc\n",
      "Password validation result: Invalid password!\n"
     ]
    }
   ],
   "source": [
    "import random\n",
    "import string\n",
    "\n",
    "def generate_password(length, complexity):\n",
    "    \n",
    "    if complexity == \"low\":\n",
    "        characters = string.ascii_letters + string.digits\n",
    "    elif complexity == \"medium\":\n",
    "        characters = string.ascii_letters + string.digits + string.punctuation\n",
    "    elif complexity == \"high\":\n",
    "        characters = string.ascii_letters + string.digits + string.punctuation + string.ascii_lowercase + string.ascii_uppercase\n",
    "    else:\n",
    "        print(\"Invalid complexity level. Please choose from 'low', 'medium', or 'high'.\")\n",
    "        return None\n",
    "    \n",
    "    password = ''.join(random.choice(characters) for _ in range(length))\n",
    "    return password\n",
    "\n",
    "def validate_password(password):\n",
    "    \n",
    "    if len(password) < 8:\n",
    "        return False, \"Password should be at least 8 characters long.\"\n",
    "    if not any(char.isdigit() for char in password):\n",
    "        return False, \"Password should contain at least one digit.\"\n",
    "    if not any(char.isalpha() for char in password):\n",
    "        return False, \"Password should contain at least one letter.\"\n",
    "    if not any(char.islower() for char in password):\n",
    "        return False, \"Password should contain at least one lowercase letter.\"\n",
    "    if not any(char.isupper() for char in password):\n",
    "        return False, \"Password should contain at least one uppercase letter.\"\n",
    "    if not any(char in string.punctuation for char in password):\n",
    "        return False, \"Password should contain at least one special character.\"\n",
    "    return True, \"Password meets complexity requirements.\"\n",
    "\n",
    "if __name__ == \"__main__\":\n",
    "    length = int(input(\"Enter the length of the password: \"))\n",
    "    complexity = input(\"Enter the complexity level (low, medium, or high): \").lower()\n",
    "    \n",
    "    password = generate_password(length, complexity)\n",
    "    if password:\n",
    "        print(\"Generated password:\", password)\n",
    "        valid, message = validate_password(password)\n",
    "        print(\"Password validation result:\", message if valid else \"Invalid password!\")\n"
   ]
  },
  {
   "cell_type": "code",
   "execution_count": 15,
   "id": "fc000f93",
   "metadata": {},
   "outputs": [
    {
     "name": "stdout",
     "output_type": "stream",
     "text": [
      "Enter the number of rows: 3\n",
      "Enter the number of columns: 3\n",
      "Enter elements of the first matrix:\n",
      "Enter element at position (1,1): 2\n",
      "Enter element at position (1,2): 3\n",
      "Enter element at position (1,3): 4\n",
      "Enter element at position (2,1): 2\n",
      "Enter element at position (2,2): 3\n",
      "Enter element at position (2,3): 4\n",
      "Enter element at position (3,1): 1\n",
      "Enter element at position (3,2): 2\n",
      "Enter element at position (3,3): 3\n",
      "Enter elements of the second matrix:\n",
      "Enter element at position (1,1): 23\n",
      "Enter element at position (1,2): 4\n",
      "Enter element at position (1,3): 4\n",
      "Enter element at position (2,1): 2\n",
      "Enter element at position (2,2): 3\n",
      "Enter element at position (2,3): 4\n",
      "Enter element at position (3,1): 1\n",
      "Enter element at position (3,2): 2\n",
      "Enter element at position (3,3): 3\n",
      "\n",
      "Matrix Addition Result:\n",
      "[25.0, 7.0, 8.0]\n",
      "[4.0, 6.0, 8.0]\n",
      "[2.0, 4.0, 6.0]\n",
      "\n",
      "Matrix Subtraction Result:\n",
      "[-21.0, -1.0, 0.0]\n",
      "[0.0, 0.0, 0.0]\n",
      "[0.0, 0.0, 0.0]\n"
     ]
    }
   ],
   "source": [
    "# 32. Develop a program that performs matrix addition and subtraction based on user input.\n",
    "\n",
    "def matrix_addition(matrix1, matrix2):\n",
    "    result = []\n",
    "    for i in range(len(matrix1)):\n",
    "        row = []\n",
    "        for j in range(len(matrix1[0])):\n",
    "            row.append(matrix1[i][j] + matrix2[i][j])\n",
    "        result.append(row)\n",
    "    return result\n",
    "\n",
    "def matrix_subtraction(matrix1, matrix2):\n",
    "    result = []\n",
    "    for i in range(len(matrix1)):\n",
    "        row = []\n",
    "        for j in range(len(matrix1[0])):\n",
    "            row.append(matrix1[i][j] - matrix2[i][j])\n",
    "        result.append(row)\n",
    "    return result\n",
    "\n",
    "def input_matrix(rows, cols):\n",
    "    matrix = []\n",
    "    for i in range(rows):\n",
    "        row = []\n",
    "        for j in range(cols):\n",
    "            element = float(input(f\"Enter element at position ({i+1},{j+1}): \"))\n",
    "            row.append(element)\n",
    "        matrix.append(row)\n",
    "    return matrix\n",
    "\n",
    "def print_matrix(matrix):\n",
    "    for row in matrix:\n",
    "        print(row)\n",
    "\n",
    "\n",
    "rows = int(input(\"Enter the number of rows: \"))\n",
    "cols = int(input(\"Enter the number of columns: \"))\n",
    "\n",
    "print(\"Enter elements of the first matrix:\")\n",
    "matrix1 = input_matrix(rows, cols)\n",
    "\n",
    "print(\"Enter elements of the second matrix:\")\n",
    "matrix2 = input_matrix(rows, cols)\n",
    "\n",
    "\n",
    "add_result = matrix_addition(matrix1, matrix2)\n",
    "sub_result = matrix_subtraction(matrix1, matrix2)\n",
    "\n",
    "\n",
    "print(\"\\nMatrix Addition Result:\")\n",
    "print_matrix(add_result)\n",
    "\n",
    "print(\"\\nMatrix Subtraction Result:\")\n",
    "print_matrix(sub_result)\n"
   ]
  },
  {
   "cell_type": "code",
   "execution_count": 23,
   "id": "9acb6f3f",
   "metadata": {},
   "outputs": [
    {
     "name": "stdout",
     "output_type": "stream",
     "text": [
      "GCD of 98 and 56 is 14\n"
     ]
    }
   ],
   "source": [
    "# 33. Write a program that calculates the greatest common divisor (GCD) of two numbers using the Euclidean\n",
    "# algorithm.\n",
    "def gcd(a, b):\n",
    "    while b != 0:\n",
    "        a, b = b, a % b\n",
    "    return a\n",
    "\n",
    "a = 98\n",
    "b = 56\n",
    "result = gcd(a, b)\n",
    "if result:\n",
    "    print('GCD of', a, 'and', b, 'is', result)\n",
    "else:\n",
    "    print('not found')\n"
   ]
  },
  {
   "cell_type": "code",
   "execution_count": 34,
   "id": "0ddb0a95",
   "metadata": {},
   "outputs": [
    {
     "name": "stdout",
     "output_type": "stream",
     "text": [
      "Matrix 1:\n",
      "[1, 2, 3]\n",
      "[4, 5, 6]\n",
      "\n",
      "Matrix 2:\n",
      "[7, 8]\n",
      "[9, 10]\n",
      "[11, 12]\n",
      "\n",
      "Result:\n",
      "[58, 64]\n",
      "[139, 154]\n"
     ]
    }
   ],
   "source": [
    "# 34. Build a program that performs matrix multiplication using nested loops and conditional statements.\n",
    "\n",
    "def matrix_multiplication(matrix1, matrix2):\n",
    "    if len(matrix1[0]) != len(matrix2):\n",
    "        return \"Matrices cannot be multiplied\"\n",
    "    \n",
    "    result = [[0 for _ in range(len(matrix2[0]))] for _ in range(len(matrix1))]\n",
    "    \n",
    "    for i in range(len(matrix1)):\n",
    "        for j in range(len(matrix2[0])):\n",
    "            for k in range(len(matrix2)):\n",
    "                result[i][j] += matrix1[i][k] * matrix2[k][j]\n",
    "                \n",
    "    return result\n",
    "\n",
    "def main():\n",
    "    matrix1 = [[1, 2, 3],\n",
    "               [4, 5, 6]]\n",
    "    \n",
    "    matrix2 = [[7, 8],\n",
    "               [9, 10],\n",
    "               [11, 12]]\n",
    "    \n",
    "    result = matrix_multiplication(matrix1, matrix2)\n",
    "    \n",
    "    if isinstance(result, str):\n",
    "        print(result)\n",
    "    else:\n",
    "        print(\"Matrix 1:\")\n",
    "        for row in matrix1:\n",
    "            print(row)\n",
    "        \n",
    "        print(\"\\nMatrix 2:\")\n",
    "        for row in matrix2:\n",
    "            print(row)\n",
    "        \n",
    "        print(\"\\nResult:\")\n",
    "        for row in result:\n",
    "            print(row)\n",
    "\n",
    "if __name__ == \"__main__\":\n",
    "    main()\n"
   ]
  },
  {
   "cell_type": "code",
   "execution_count": 35,
   "id": "e9f7c2ff",
   "metadata": {},
   "outputs": [
    {
     "name": "stdout",
     "output_type": "stream",
     "text": [
      "Welcome to Tic-Tac-Toe!\n",
      "  |   |  \n",
      "-----\n",
      "  |   |  \n",
      "-----\n",
      "  |   |  \n",
      "-----\n",
      "Enter row and column (0-2, separated by space): 1 2\n",
      "  |   |  \n",
      "-----\n",
      "  |   | X\n",
      "-----\n",
      "  |   |  \n",
      "-----\n",
      "Computer's turn:\n",
      "  |   |  \n",
      "-----\n",
      "  |   | X\n",
      "-----\n",
      "O |   |  \n",
      "-----\n",
      "Enter row and column (0-2, separated by space): 2 3\n",
      "Invalid move! Try again.\n",
      "Enter row and column (0-2, separated by space): 2 2\n",
      "  |   |  \n",
      "-----\n",
      "  |   | X\n",
      "-----\n",
      "O |   | X\n",
      "-----\n",
      "Computer's turn:\n",
      "  |   |  \n",
      "-----\n",
      "O |   | X\n",
      "-----\n",
      "O |   | X\n",
      "-----\n",
      "Enter row and column (0-2, separated by space): 1 1\n",
      "  |   |  \n",
      "-----\n",
      "O | X | X\n",
      "-----\n",
      "O |   | X\n",
      "-----\n",
      "Computer's turn:\n",
      "O |   |  \n",
      "-----\n",
      "O | X | X\n",
      "-----\n",
      "O |   | X\n",
      "-----\n",
      "Sorry, you lose!\n"
     ]
    }
   ],
   "source": [
    "# 35. Create a program that simulates a basic text-based tic-tac-toe game against the computer.\n",
    "import random\n",
    "\n",
    "def print_board(board):\n",
    "    for row in board:\n",
    "        print(\" | \".join(row))\n",
    "        print(\"-\" * 5)\n",
    "\n",
    "def check_win(board, player):\n",
    "    for row in board:\n",
    "        if all(cell == player for cell in row):\n",
    "            return True\n",
    "    for col in range(3):\n",
    "        if all(board[row][col] == player for row in range(3)):\n",
    "            return True\n",
    "    if all(board[i][i] == player for i in range(3)):\n",
    "        return True\n",
    "    if all(board[i][2-i] == player for i in range(3)):\n",
    "        return True\n",
    "    return False\n",
    "\n",
    "def player_move(board):\n",
    "    while True:\n",
    "        row, col = map(int, input(\"Enter row and column (0-2, separated by space): \").split())\n",
    "        if 0 <= row <= 2 and 0 <= col <= 2 and board[row][col] == \" \":\n",
    "            return row, col\n",
    "        print(\"Invalid move! Try again.\")\n",
    "\n",
    "def computer_move(board):\n",
    "    return random.choice([(row, col) for row in range(3) for col in range(3) if board[row][col] == \" \"])\n",
    "\n",
    "def main():\n",
    "    board = [[\" \" for _ in range(3)] for _ in range(3)]\n",
    "    print(\"Welcome to Tic-Tac-Toe!\")\n",
    "    print_board(board)\n",
    "    while True:\n",
    "        row, col = player_move(board)\n",
    "        board[row][col] = \"X\"\n",
    "        print_board(board)\n",
    "        if check_win(board, \"X\"):\n",
    "            print(\"Congratulations! You win!\")\n",
    "            break\n",
    "        if all(\" \" not in row for row in board):\n",
    "            print(\"It's a tie!\")\n",
    "            break\n",
    "        print(\"Computer's turn:\")\n",
    "        row, col = computer_move(board)\n",
    "        board[row][col] = \"O\"\n",
    "        print_board(board)\n",
    "        if check_win(board, \"O\"):\n",
    "            print(\"Sorry, you lose!\")\n",
    "            break\n",
    "        if all(\" \" not in row for row in board):\n",
    "            print(\"It's a tie!\")\n",
    "            break\n",
    "\n",
    "if __name__ == \"__main__\":\n",
    "    main()\n"
   ]
  },
  {
   "cell_type": "code",
   "execution_count": 27,
   "id": "2a926bb3",
   "metadata": {},
   "outputs": [
    {
     "name": "stdout",
     "output_type": "stream",
     "text": [
      "Enter the number of Fibonacci numbers to generate: 5\n",
      "Fibonacci sequence up to term 5 :\n",
      "[0, 1, 1, 2, 3]\n"
     ]
    }
   ],
   "source": [
    "# 36. Write a program that generates Fibonacci numbers up to a specified term using iterative methods.\n",
    "def fibonacci(n):\n",
    "    fib_sequence=[]\n",
    "    a,b = 0,1\n",
    "    \n",
    "    for i in range(n):\n",
    "        fib_sequence.append(a)\n",
    "        a,b = b,a+b\n",
    "        \n",
    "    return fib_sequence\n",
    "\n",
    "def main():\n",
    "    \n",
    "    n = int(input(\"Enter the number of Fibonacci numbers to generate: \"))\n",
    "    \n",
    "   \n",
    "    fibonacci_sequence = fibonacci(n)\n",
    "    print(\"Fibonacci sequence up to term\", n, \":\")\n",
    "    print(fibonacci_sequence)\n",
    "\n",
    "if __name__ == \"__main__\":\n",
    "    main()\n",
    "\n",
    "        \n",
    "        \n",
    "        \n",
    "        \n",
    "       "
   ]
  },
  {
   "cell_type": "code",
   "execution_count": 33,
   "id": "9c9b971e",
   "metadata": {},
   "outputs": [
    {
     "name": "stdout",
     "output_type": "stream",
     "text": [
      "Enter the value of n: 6\n",
      "The 6th term of the Fibonacci sequence is: 8\n"
     ]
    }
   ],
   "source": [
    "# 37. Develop a program that calculates the nth term of the Fibonacci sequence using memoization.\n",
    "\n",
    "def fibonacci(n, memo={}):\n",
    "   \n",
    "    if n <= 1:\n",
    "        return n\n",
    "    elif n in memo:\n",
    "        return memo[n]\n",
    "    else:\n",
    "        memo[n] = fibonacci(n-1, memo) + fibonacci(n-2, memo)\n",
    "        return memo[n]\n",
    "\n",
    "# Test the function\n",
    "n = int(input(\"Enter the value of n: \"))\n",
    "result = fibonacci(n)\n",
    "print(f\"The {n}th term of the Fibonacci sequence is: {result}\")\n",
    "\n"
   ]
  },
  {
   "cell_type": "code",
   "execution_count": 36,
   "id": "da59b12d",
   "metadata": {},
   "outputs": [
    {
     "name": "stdout",
     "output_type": "stream",
     "text": [
      "Calendar for 5/2024:\n",
      "Mon  Tue  Wed  Thu  Fri  Sat  Sun\n",
      "                     1    2    3   \n",
      " 4    5    6    7    8    9   10   \n",
      "11   12   13   14   15   16   17   \n",
      "18   19   20   21   22   23   24   \n",
      "25   26   27   28   29   30   31   \n"
     ]
    }
   ],
   "source": [
    "# 38. Create a program that generates a calendar for a given month and year using conditional statements.\n",
    "\n",
    "def is_leap_year(year):\n",
    "    \n",
    "    if year % 4 == 0:\n",
    "        if year % 100 == 0:\n",
    "            if year % 400 == 0:\n",
    "                return True\n",
    "            else:\n",
    "                return False\n",
    "        else:\n",
    "            return True\n",
    "    else:\n",
    "        return False\n",
    "\n",
    "def get_num_days_in_month(month, year):\n",
    "   \n",
    "    if month in {1, 3, 5, 7, 8, 10, 12}:\n",
    "        return 31\n",
    "    elif month in {4, 6, 9, 11}:\n",
    "        return 30\n",
    "    elif month == 2:\n",
    "        if is_leap_year(year):\n",
    "            return 29\n",
    "        else:\n",
    "            return 28\n",
    "\n",
    "def generate_calendar(month, year):\n",
    "   \n",
    "    num_days = get_num_days_in_month(month, year)\n",
    "    print(f\"Calendar for {month}/{year}:\")\n",
    "    print(\"Mon  Tue  Wed  Thu  Fri  Sat  Sun\")\n",
    "    start_day = 1\n",
    "\n",
    "    if month < 3:\n",
    "        month += 12\n",
    "        year -= 1\n",
    "    start_day = (1 + (13*(month+1)) // 5 + year + year // 4 - year // 100 + year // 400) % 7\n",
    "\n",
    "   \n",
    "    for _ in range(start_day):\n",
    "        print(\"     \", end=\"\")\n",
    "   \n",
    "    for day in range(1, num_days + 1):\n",
    "        print(f\"{day:2}   \", end=\"\")\n",
    "       \n",
    "        if (day + start_day) % 7 == 0:\n",
    "            print()\n",
    "\n",
    "\n",
    "generate_calendar(5, 2024)\n"
   ]
  },
  {
   "cell_type": "code",
   "execution_count": 39,
   "id": "9aae3c69",
   "metadata": {},
   "outputs": [
    {
     "name": "stdout",
     "output_type": "stream",
     "text": [
      "Welcome to Blackjack!\n",
      "Your hand: ['Q', '4'] Total: 14\n",
      "Dealer's hand: ['K', 'X']\n",
      "Do you want to hit or stand? (h/s): h\n",
      "Your hand: ['Q', '4', 'J'] Total: 24\n",
      "Dealer's hand: ['K', 'X']\n",
      "Your hand: ['Q', '4', 'J'] Total: 24\n",
      "Dealer's hand: ['K', 'A'] Total: 21\n",
      "You busted! Dealer wins.\n"
     ]
    }
   ],
   "source": [
    "# 39. Build a program that simulates a basic text-based blackjack game against the computer.\n",
    "import random\n",
    "\n",
    "\n",
    "def calculate_hand_value(hand):\n",
    "    total = 0\n",
    "    num_aces = 0\n",
    "    \n",
    "    for card in hand:\n",
    "        if card in ['J', 'Q', 'K']:\n",
    "            total += 10\n",
    "        elif card == 'A':\n",
    "            num_aces += 1\n",
    "            total += 11\n",
    "        else:\n",
    "            total += int(card)\n",
    "    \n",
    "    # Adjust for aces\n",
    "    while total > 21 and num_aces > 0:\n",
    "        total -= 10\n",
    "        num_aces -= 1\n",
    "    \n",
    "    return total\n",
    "\n",
    "\n",
    "def deal_card():\n",
    "    cards = ['2', '3', '4', '5', '6', '7', '8', '9', '10', 'J', 'Q', 'K', 'A']\n",
    "    return random.choice(cards)\n",
    "\n",
    "\n",
    "def display_hands(player_hand, dealer_hand, hide_dealer_card):\n",
    "    print(\"Your hand:\", player_hand, \"Total:\", calculate_hand_value(player_hand))\n",
    "    if hide_dealer_card:\n",
    "        print(\"Dealer's hand:\", [dealer_hand[0], 'X'])\n",
    "    else:\n",
    "        print(\"Dealer's hand:\", dealer_hand, \"Total:\", calculate_hand_value(dealer_hand))\n",
    "\n",
    "\n",
    "def play_blackjack():\n",
    "    print(\"Welcome to Blackjack!\")\n",
    "    player_hand = [deal_card(), deal_card()]\n",
    "    dealer_hand = [deal_card(), deal_card()]\n",
    "    \n",
    "    display_hands(player_hand, dealer_hand, True)\n",
    "    \n",
    "   \n",
    "    while calculate_hand_value(player_hand) < 21:\n",
    "        action = input(\"Do you want to hit or stand? (h/s): \").lower()\n",
    "        if action == 'h':\n",
    "            player_hand.append(deal_card())\n",
    "            display_hands(player_hand, dealer_hand, True)\n",
    "        elif action == 's':\n",
    "            break\n",
    "    \n",
    "    player_score = calculate_hand_value(player_hand)\n",
    "    \n",
    "   \n",
    "    while calculate_hand_value(dealer_hand) < 17:\n",
    "        dealer_hand.append(deal_card())\n",
    "    \n",
    "    dealer_score = calculate_hand_value(dealer_hand)\n",
    "    \n",
    "   \n",
    "    display_hands(player_hand, dealer_hand, False)\n",
    "    \n",
    "    \n",
    "    if player_score > 21:\n",
    "        print(\"You busted! Dealer wins.\")\n",
    "    elif dealer_score > 21:\n",
    "        print(\"Dealer busted! You win.\")\n",
    "    elif player_score == dealer_score:\n",
    "        print(\"It's a tie!\")\n",
    "    elif player_score > dealer_score:\n",
    "        print(\"You win!\")\n",
    "    else:\n",
    "        print(\"Dealer wins!\")\n",
    "if __name__ == \"__main__\":\n",
    "    play_blackjack()\n"
   ]
  },
  {
   "cell_type": "code",
   "execution_count": 38,
   "id": "ac29bac1",
   "metadata": {},
   "outputs": [
    {
     "name": "stdout",
     "output_type": "stream",
     "text": [
      "Enter a number to find its prime factors: 125\n",
      "Prime factors of 125 are: [5, 5, 5]\n"
     ]
    }
   ],
   "source": [
    "# 40. Write a program that generates the prime factors of a given number using trial division.\n",
    "\n",
    "def prime_factors(n):\n",
    "    factors = []\n",
    "  \n",
    "    while n % 2 == 0:\n",
    "        factors.append(2)\n",
    "        n //= 2\n",
    " \n",
    "    for i in range(3, int(n**0.5) + 1, 2):\n",
    "        while n % i == 0:\n",
    "            factors.append(i)\n",
    "            n //= i\n",
    "   \n",
    "    if n > 2:\n",
    "        factors.append(n)\n",
    "    return factors\n",
    "\n",
    "def main():\n",
    "    num = int(input(\"Enter a number to find its prime factors: \"))\n",
    "    print(\"Prime factors of\", num, \"are:\", prime_factors(num))\n",
    "\n",
    "if __name__ == \"__main__\":\n",
    "    main()\n"
   ]
  },
  {
   "cell_type": "code",
   "execution_count": null,
   "id": "f72cd56b",
   "metadata": {},
   "outputs": [],
   "source": []
  }
 ],
 "metadata": {
  "kernelspec": {
   "display_name": "Python 3 (ipykernel)",
   "language": "python",
   "name": "python3"
  },
  "language_info": {
   "codemirror_mode": {
    "name": "ipython",
    "version": 3
   },
   "file_extension": ".py",
   "mimetype": "text/x-python",
   "name": "python",
   "nbconvert_exporter": "python",
   "pygments_lexer": "ipython3",
   "version": "3.11.5"
  }
 },
 "nbformat": 4,
 "nbformat_minor": 5
}
